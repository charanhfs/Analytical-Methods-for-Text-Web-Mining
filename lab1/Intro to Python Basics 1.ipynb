{
 "cells": [
  {
   "cell_type": "markdown",
   "metadata": {},
   "source": [
    "## Baisc Variable Assignment"
   ]
  },
  {
   "cell_type": "code",
   "execution_count": 2,
   "metadata": {},
   "outputs": [
    {
     "name": "stdout",
     "output_type": "stream",
     "text": [
      "878\n",
      "hi\n"
     ]
    }
   ],
   "source": [
    "x=50\n",
    "y=\"Hello\"\n",
    "print(878)\n",
    "print(\"hi\")"
   ]
  },
  {
   "cell_type": "code",
   "execution_count": 2,
   "metadata": {},
   "outputs": [
    {
     "name": "stdout",
     "output_type": "stream",
     "text": [
      "5\n",
      "7\n",
      "('K:', 7)\n"
     ]
    }
   ],
   "source": [
    "k=5\n",
    "j=7\n",
    "k,j = j,k\n",
    "print(j)\n",
    "print(k)\n",
    "print(\"K:\",k)"
   ]
  },
  {
   "cell_type": "markdown",
   "metadata": {},
   "source": [
    "## Lists and Loops\n",
    "\n",
    "Python does not use ```{...}``` to define scope. The lanugage utilizes indentation to define the scope of a block of code"
   ]
  },
  {
   "cell_type": "code",
   "execution_count": 3,
   "metadata": {},
   "outputs": [
    {
     "name": "stdout",
     "output_type": "stream",
     "text": [
      "1\n",
      "2\n",
      "3\n"
     ]
    }
   ],
   "source": [
    "list = [1,2,3]\n",
    "name = \"nicholas\"\n",
    "for i in list:\n",
    "    print(i)"
   ]
  },
  {
   "cell_type": "code",
   "execution_count": 4,
   "metadata": {},
   "outputs": [
    {
     "name": "stdout",
     "output_type": "stream",
     "text": [
      "range:\n",
      "1\n",
      "2\n",
      "3\n",
      "4\n",
      "5\n",
      "6\n",
      "7\n",
      "8\n",
      "9\n"
     ]
    }
   ],
   "source": [
    "print(\"range:\")\n",
    "for i in range(1,10): #list generation on the fly\n",
    "    print(i)"
   ]
  },
  {
   "cell_type": "code",
   "execution_count": 5,
   "metadata": {},
   "outputs": [
    {
     "name": "stdout",
     "output_type": "stream",
     "text": [
      "range:\n",
      "0\n",
      "1\n",
      "2\n",
      "3\n",
      "4\n",
      "5\n",
      "6\n",
      "7\n",
      "8\n",
      "9\n"
     ]
    }
   ],
   "source": [
    "print(\"range:\")\n",
    "for i in range(10): #goes from 0 to 9\n",
    "    print(i)"
   ]
  },
  {
   "cell_type": "code",
   "execution_count": 6,
   "metadata": {},
   "outputs": [
    {
     "name": "stdout",
     "output_type": "stream",
     "text": [
      "range:\n",
      "1\n",
      "3\n",
      "5\n",
      "7\n",
      "9\n",
      "11\n",
      "13\n",
      "15\n",
      "17\n",
      "19\n"
     ]
    }
   ],
   "source": [
    "print(\"range:\")\n",
    "for i in range(1,20,2): \n",
    "    print(i)"
   ]
  },
  {
   "cell_type": "code",
   "execution_count": 7,
   "metadata": {},
   "outputs": [
    {
     "name": "stdout",
     "output_type": "stream",
     "text": [
      "While loop\n",
      "('inside loop ', 1)\n",
      "('inside loop ', 2)\n",
      "('inside loop ', 3)\n",
      "('inside loop ', 4)\n",
      "('inside loop ', 6)\n",
      "('inside loop ', 7)\n",
      "('inside loop ', 8)\n",
      "('inside loop ', 9)\n",
      "('inside loop ', 10)\n"
     ]
    }
   ],
   "source": [
    "print(\"While loop\")\n",
    "count = 0\n",
    "while count<10:\n",
    "    count += 1\n",
    "    if count == 5:\n",
    "        continue\n",
    "    print(\"inside loop \",count)"
   ]
  },
  {
   "cell_type": "markdown",
   "metadata": {},
   "source": [
    "## Functions\n",
    "\n",
    "```def``` derfines the start of the function, that is followed by the function name, in this example ```sum``` and the parameters ```(start, end):```. The ```:``` represents the start of the function execution block.\n",
    "\n",
    "Everything else in the function follows below within the indentation of the function defination."
   ]
  },
  {
   "cell_type": "code",
   "execution_count": 13,
   "metadata": {},
   "outputs": [
    {
     "name": "stdout",
     "output_type": "stream",
     "text": [
      "Function\n",
      "slkdfjsld\n"
     ]
    }
   ],
   "source": [
    "print(\"Function\")\n",
    "def sum(start, end): #structure of the function \n",
    "    result = 0\n",
    "    for i in range(start, end+1):\n",
    "        result += i\n",
    "    print(result)\n",
    "print(\"slkdfjsld\")"
   ]
  },
  {
   "cell_type": "code",
   "execution_count": 14,
   "metadata": {},
   "outputs": [
    {
     "name": "stdout",
     "output_type": "stream",
     "text": [
      "1230\n"
     ]
    }
   ],
   "source": [
    "sum(10,50) #function execution"
   ]
  },
  {
   "cell_type": "code",
   "execution_count": 11,
   "metadata": {},
   "outputs": [
    {
     "name": "stdout",
     "output_type": "stream",
     "text": [
      "1230\n"
     ]
    }
   ],
   "source": [
    "def sum(start, end):\n",
    "    result = 0\n",
    "    for i in range(start, end+1):\n",
    "        result += i\n",
    "    return result\n",
    "\n",
    "print(sum(10,50))"
   ]
  },
  {
   "cell_type": "code",
   "execution_count": 15,
   "metadata": {},
   "outputs": [],
   "source": [
    "sent = \"my name is john\""
   ]
  },
  {
   "cell_type": "code",
   "execution_count": 16,
   "metadata": {},
   "outputs": [
    {
     "data": {
      "text/plain": [
       "['my', 'name', 'is', 'john']"
      ]
     },
     "execution_count": 16,
     "metadata": {},
     "output_type": "execute_result"
    }
   ],
   "source": [
    "sent.split(\" \")"
   ]
  },
  {
   "cell_type": "code",
   "execution_count": null,
   "metadata": {},
   "outputs": [],
   "source": []
  }
 ],
 "metadata": {
  "kernelspec": {
   "display_name": "Python 2",
   "language": "python",
   "name": "python2"
  },
  "language_info": {
   "codemirror_mode": {
    "name": "ipython",
    "version": 2
   },
   "file_extension": ".py",
   "mimetype": "text/x-python",
   "name": "python",
   "nbconvert_exporter": "python",
   "pygments_lexer": "ipython2",
   "version": "2.7.10"
  }
 },
 "nbformat": 4,
 "nbformat_minor": 2
}
