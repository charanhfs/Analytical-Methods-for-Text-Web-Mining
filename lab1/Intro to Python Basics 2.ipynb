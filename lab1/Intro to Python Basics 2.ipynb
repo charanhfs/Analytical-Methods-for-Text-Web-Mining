{
 "cells": [
  {
   "cell_type": "markdown",
   "metadata": {},
   "source": [
    "## List of strings"
   ]
  },
  {
   "cell_type": "code",
   "execution_count": 1,
   "metadata": {},
   "outputs": [
    {
     "name": "stdout",
     "output_type": "stream",
     "text": [
      "['Jim', 'Paul', 'Sally', 'Tom', 'Mary']\n"
     ]
    }
   ],
   "source": [
    "names = ['Jim', 'Paul', 'Sally', 'Tom', 'Mary']\n",
    "print(names)"
   ]
  },
  {
   "cell_type": "code",
   "execution_count": 2,
   "metadata": {},
   "outputs": [
    {
     "name": "stdout",
     "output_type": "stream",
     "text": [
      "('name at index 1:', 'Paul')\n",
      "('name at index 0:', 'Jim')\n",
      "('name at index -1:', 'Mary')\n",
      "('name at index -2:', 'Tom')\n"
     ]
    }
   ],
   "source": [
    "print('name at index 1:', names[1])  #python starts indexing at 0\n",
    "\n",
    "print('name at index 0:', names[0])\n",
    "\n",
    "print('name at index -1:', names[-1])\n",
    "\n",
    "print('name at index -2:', names[-2])"
   ]
  },
  {
   "cell_type": "markdown",
   "metadata": {},
   "source": [
    "## List Sclicing"
   ]
  },
  {
   "cell_type": "code",
   "execution_count": 3,
   "metadata": {},
   "outputs": [
    {
     "name": "stdout",
     "output_type": "stream",
     "text": [
      "['Jim', 'Paul', 'Sally', 'Tom', 'Mary']\n",
      "['Sally', 'Tom']\n",
      "['Jim', 'Paul', 'Sally', 'Tom']\n",
      "['Sally', 'Tom', 'Mary']\n",
      "['Sally', 'Tom', 'Mary']\n"
     ]
    }
   ],
   "source": [
    "print(names[:]) # prints the entire list\n",
    "\n",
    "print(names[2:4])  # prints from index 2 to index 3\n",
    "\n",
    "print(names[:4]) # prints the first 4 items\n",
    "\n",
    "print(names[2:]) # prints from the 3rd index\n",
    "\n",
    "print(names[-3:]) # prints the last 3 items\n"
   ]
  },
  {
   "cell_type": "markdown",
   "metadata": {},
   "source": [
    "### Preforming Operations on Python Lists"
   ]
  },
  {
   "cell_type": "code",
   "execution_count": 5,
   "metadata": {},
   "outputs": [
    {
     "name": "stdout",
     "output_type": "stream",
     "text": [
      "['Jim', 'Paul', 'Sally', 'Tom', 'Mary', 'Bob', 'Joe']\n"
     ]
    }
   ],
   "source": [
    "names2 = ['Bob', 'Joe']\n",
    "\n",
    "all_names = names + names2\n",
    "print(all_names)"
   ]
  },
  {
   "cell_type": "code",
   "execution_count": 6,
   "metadata": {},
   "outputs": [
    {
     "name": "stdout",
     "output_type": "stream",
     "text": [
      "7\n"
     ]
    }
   ],
   "source": [
    "print(len(all_names))"
   ]
  },
  {
   "cell_type": "code",
   "execution_count": 8,
   "metadata": {},
   "outputs": [
    {
     "name": "stdout",
     "output_type": "stream",
     "text": [
      "['Jim', 'Paul', 'Sally', 'Tom', 'Mary', 'Bob', 'Joe', 'Jane', 'Jane']\n",
      "['Jim', 'Paul', 'Sally', 'Mary', 'Bob', 'Joe', 'Jane', 'Jane']\n"
     ]
    }
   ],
   "source": [
    "all_names.append('Jane') #adds Jane to the end of the list\n",
    "print(all_names)\n",
    "\n",
    "all_names.remove('Tom') # finds tom in the list then removes it\n",
    "print(all_names)"
   ]
  },
  {
   "cell_type": "code",
   "execution_count": 8,
   "metadata": {},
   "outputs": [
    {
     "name": "stdout",
     "output_type": "stream",
     "text": [
      "['Jim', 'Tom', 'Tom', 'Paul', 'Sally', 'Mary', 'Bob', 'Joe', 'Jane']\n"
     ]
    }
   ],
   "source": [
    "all_names.insert(1, 'Tom') # adds tom the 2nd position in the list, remember lists start at 0\n",
    "print(all_names)"
   ]
  },
  {
   "cell_type": "code",
   "execution_count": 9,
   "metadata": {},
   "outputs": [
    {
     "name": "stdout",
     "output_type": "stream",
     "text": [
      "['Jim', 'Tom', 'Tom', 'Paul', 'Sally', 'Mary', 'Bob', 'Joe']\n",
      "['Tom', 'Tom', 'Paul', 'Sally', 'Mary', 'Bob', 'Joe']\n"
     ]
    }
   ],
   "source": [
    "#The pop() method removes the specified index, (or the last item if index is not specified)\n",
    "all_names.pop()\n",
    "print(all_names)\n",
    "\n",
    "#The del keyword removes the specified index\n",
    "del all_names[0]\n",
    "print(all_names)"
   ]
  },
  {
   "cell_type": "code",
   "execution_count": 9,
   "metadata": {},
   "outputs": [
    {
     "name": "stdout",
     "output_type": "stream",
     "text": [
      "1\n"
     ]
    }
   ],
   "source": [
    "print(all_names.count('Sally'))\n"
   ]
  },
  {
   "cell_type": "code",
   "execution_count": 12,
   "metadata": {},
   "outputs": [
    {
     "name": "stdout",
     "output_type": "stream",
     "text": [
      "['Bob', 'Joe', 'Mary', 'Paul', 'Sally', 'Tom', 'Tom']\n",
      "['Tom', 'Tom', 'Sally', 'Paul', 'Mary', 'Joe', 'Bob']\n"
     ]
    }
   ],
   "source": [
    "all_names.sort()\n",
    "print(all_names)\n",
    "\n",
    "all_names.reverse()\n",
    "print(all_names)"
   ]
  },
  {
   "cell_type": "code",
   "execution_count": 10,
   "metadata": {
    "scrolled": true
   },
   "outputs": [
    {
     "name": "stdout",
     "output_type": "stream",
     "text": [
      "[['a', 'b', 'c'], [1, 2, 3]]\n",
      "['a', 'b', 'c']\n",
      "b\n",
      "1\n",
      "3\n"
     ]
    }
   ],
   "source": [
    "alp = ['a', 'b', 'c']\n",
    "nums = [1, 2, 3] \n",
    "x = [alp, nums] # creating a list of lists\n",
    "print(x)\n",
    "print(x[0])\n",
    "print(x[0][1])\n",
    "\n",
    "print(min(nums))\n",
    "\n",
    "print(max(nums))"
   ]
  },
  {
   "cell_type": "markdown",
   "metadata": {},
   "source": [
    "### Tuples\n",
    "\n",
    "Has same count and index methods as list\n",
    "\n",
    "Can do len, min and max as well"
   ]
  },
  {
   "cell_type": "code",
   "execution_count": 11,
   "metadata": {},
   "outputs": [
    {
     "name": "stdout",
     "output_type": "stream",
     "text": [
      "1\n",
      "(1, 2, 3, 4, 5, 'a', 'b', 'c')\n"
     ]
    }
   ],
   "source": [
    "y = (1,2,3,4,5)\n",
    "print(y[0])\n",
    "\n",
    "z = ('a', 'b', 'c')\n",
    "\n",
    "combined = y + z\n",
    "print(combined)"
   ]
  },
  {
   "cell_type": "markdown",
   "metadata": {},
   "source": [
    "## Sets\n",
    "\n",
    "A set is a collection which is unordered and unindexed"
   ]
  },
  {
   "cell_type": "code",
   "execution_count": 12,
   "metadata": {},
   "outputs": [
    {
     "name": "stdout",
     "output_type": "stream",
     "text": [
      "set(['Jane', 'Paul', 'Sally', 'Joe', 'Tom'])\n"
     ]
    }
   ],
   "source": [
    "people = {'Tom', 'Paul', 'Sally', 'Jane'}\n",
    "\n",
    "#To add one item to a set use the add() method.\n",
    "people.add('Joe')\n",
    "print(people)"
   ]
  },
  {
   "cell_type": "code",
   "execution_count": 17,
   "metadata": {},
   "outputs": [
    {
     "name": "stdout",
     "output_type": "stream",
     "text": [
      "set(['Sam', 'Joe', 'Tom', 'Jane', 'Paul', 'Sally', 'Mary'])\n",
      "7\n"
     ]
    }
   ],
   "source": [
    "\n",
    "#To add more than one item to a set use the update() method.\n",
    "people.update(['Sam', 'Mary'])\n",
    "print(people)\n",
    "\n",
    "print(len(people))"
   ]
  },
  {
   "cell_type": "code",
   "execution_count": 18,
   "metadata": {},
   "outputs": [
    {
     "name": "stdout",
     "output_type": "stream",
     "text": [
      "set(['Sam', 'Joe', 'Jane', 'Paul', 'Sally', 'Mary'])\n",
      "set(['Joe', 'Jane', 'Paul', 'Sally', 'Mary'])\n"
     ]
    }
   ],
   "source": [
    "people.remove('Tom')  #If the item to remove does not exist, remove() will raise an error.\n",
    "print(people)\n",
    "\n",
    "people.discard('Sam') #If the item to remove does not exist, discard() will NOT raise an error.\n",
    "print(people)"
   ]
  },
  {
   "cell_type": "code",
   "execution_count": 19,
   "metadata": {},
   "outputs": [
    {
     "name": "stdout",
     "output_type": "stream",
     "text": [
      "set([])\n",
      "set(['Sam', 'Tom'])\n",
      "set(['Jane', 'Paul', 'Sally', 'Joe', 'Mary'])\n"
     ]
    }
   ],
   "source": [
    "people2 ={'Jane', 'Mary', 'Joe', 'Tom', 'Sally', 'Paul', 'Sam'}\n",
    "\n",
    "diff = people.difference(people2)\n",
    "print(diff)\n",
    "\n",
    "diff = people2.difference(people)\n",
    "print(diff)\n",
    "\n",
    "inter = people.intersection(people2)\n",
    "print(inter)"
   ]
  },
  {
   "cell_type": "markdown",
   "metadata": {},
   "source": [
    "## Dictionaries "
   ]
  },
  {
   "cell_type": "code",
   "execution_count": 14,
   "metadata": {},
   "outputs": [
    {
     "name": "stdout",
     "output_type": "stream",
     "text": [
      "{'Gender': 'Male', 'Age': 20, 'list': [1, 2, 3, 4], 'Name': 'Tom'}\n",
      "Tom\n",
      "20\n",
      "22\n"
     ]
    }
   ],
   "source": [
    "mydict = {'Name': 'Tom',\n",
    "        'Age': 20,\n",
    "        'Gender': 'Male',\n",
    "         \"list\":[1,2,3,4]}\n",
    "\n",
    "print(mydict)\n",
    "print(mydict['Name'])\n",
    "print(mydict.get(\"Age\"))\n",
    "\n",
    "mydict['Age'] = 22\n",
    "print(mydict.get(\"Age\"))"
   ]
  },
  {
   "cell_type": "markdown",
   "metadata": {},
   "source": [
    "### Prints key names"
   ]
  },
  {
   "cell_type": "code",
   "execution_count": 15,
   "metadata": {},
   "outputs": [
    {
     "name": "stdout",
     "output_type": "stream",
     "text": [
      "Gender\n",
      "Age\n",
      "list\n",
      "Name\n",
      "Male\n",
      "22\n",
      "[1, 2, 3, 4]\n",
      "Tom\n"
     ]
    }
   ],
   "source": [
    "for x in mydict:\n",
    "    print(x)\n",
    "    \n",
    "    \n",
    "for x in mydict.values():\n",
    "    print(x)"
   ]
  },
  {
   "cell_type": "markdown",
   "metadata": {},
   "source": [
    "### Prints values"
   ]
  },
  {
   "cell_type": "code",
   "execution_count": 16,
   "metadata": {},
   "outputs": [
    {
     "name": "stdout",
     "output_type": "stream",
     "text": [
      "Male\n",
      "22\n",
      "[1, 2, 3, 4]\n",
      "Tom\n",
      "('Gender', 'Male')\n",
      "('Age', 22)\n",
      "('list', [1, 2, 3, 4])\n",
      "('Name', 'Tom')\n"
     ]
    }
   ],
   "source": [
    "for x in mydict:\n",
    "    print(mydict[x])  \n",
    "    \n",
    "for x, y in mydict.items():\n",
    "    print(x, y)"
   ]
  },
  {
   "cell_type": "code",
   "execution_count": 28,
   "metadata": {},
   "outputs": [
    {
     "name": "stdout",
     "output_type": "stream",
     "text": [
      "3\n",
      "{'Gender': 'Male', 'Age': 22, 'Name': 'Tom', 'occupation': 'student'}\n"
     ]
    }
   ],
   "source": [
    "print(len(mydict))\n",
    "\n",
    "mydict[\"occupation\"] = \"student\"\n",
    "print(mydict)\n"
   ]
  },
  {
   "cell_type": "code",
   "execution_count": null,
   "metadata": {},
   "outputs": [],
   "source": []
  }
 ],
 "metadata": {
  "kernelspec": {
   "display_name": "Python 2",
   "language": "python",
   "name": "python2"
  },
  "language_info": {
   "codemirror_mode": {
    "name": "ipython",
    "version": 2
   },
   "file_extension": ".py",
   "mimetype": "text/x-python",
   "name": "python",
   "nbconvert_exporter": "python",
   "pygments_lexer": "ipython2",
   "version": "2.7.10"
  }
 },
 "nbformat": 4,
 "nbformat_minor": 2
}
